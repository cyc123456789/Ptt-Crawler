{
 "cells": [
  {
   "cell_type": "code",
   "execution_count": 1,
   "metadata": {
    "collapsed": true
   },
   "outputs": [],
   "source": [
    "import json\n",
    "import re\n",
    "import requests\n",
    "from bs4 import BeautifulSoup\n",
    "from six import u\n",
    "import pandas as pd\n",
    "import numpy as np\n",
    "import matplotlib.pyplot as plt\n",
    "import matplotlib\n",
    "import re\n",
    "import jieba\n",
    "import jieba.analyse\n",
    "from datetime import datetime\n",
    "from wordcloud import WordCloud\n",
    "import math\n",
    "from nltk import ngrams\n",
    "from collections import defaultdict\n",
    "from nltk import FreqDist\n",
    "from collections import Counter, namedtuple\n",
    "import networkx as nx\n",
    "from sklearn.feature_extraction.text import CountVectorizer, TfidfTransformer\n",
    "from numpy.linalg import norm\n",
    "import gensim\n",
    "from gensim.models import CoherenceModel\n",
    "from gensim import corpora"
   ]
  },
  {
   "cell_type": "code",
   "execution_count": 3,
   "outputs": [],
   "source": [
    "with open('detail_articles.json', 'r', encoding='utf-8') as f:\n",
    "    temp = json.load(f)"
   ],
   "metadata": {
    "collapsed": false,
    "pycharm": {
     "name": "#%%\n"
    }
   }
  },
  {
   "cell_type": "code",
   "execution_count": 4,
   "outputs": [],
   "source": [
    "cols = ['article_id', 'article_title', 'author', 'board', 'date', 'content', 'message_count', 'push_content',\n",
    "        'push_userid', 'push_tag']\n",
    "rows = []\n",
    "for data in temp:\n",
    "    data_id = data['article_id']\n",
    "    message_count = data['message_count']['all']\n",
    "    messages = data['messages']\n",
    "    for m in messages:\n",
    "        rows.append([data_id, data['article_title'], data['author'], data['board'], data['date'], data['content'],\n",
    "                     message_count, m['push_content'], m['push_userid'], m['push_tag']])\n",
    "\n",
    "df = pd.DataFrame(rows, columns=cols)\n",
    "\n",
    "f.close()"
   ],
   "metadata": {
    "collapsed": false,
    "pycharm": {
     "name": "#%%\n"
    }
   }
  },
  {
   "cell_type": "code",
   "execution_count": 5,
   "outputs": [
    {
     "data": {
      "text/plain": "           article_id           article_title        author      board  \\\n0  M.1652148190.A.95B  [問卦] 烏克蘭會將這次軍事應用技術給中國嗎  kogsww (林晨黎)  Gossiping   \n1  M.1652148190.A.95B  [問卦] 烏克蘭會將這次軍事應用技術給中國嗎  kogsww (林晨黎)  Gossiping   \n2  M.1652148190.A.95B  [問卦] 烏克蘭會將這次軍事應用技術給中國嗎  kogsww (林晨黎)  Gossiping   \n\n                       date  \\\n0  Tue May 10 10:03:08 2022   \n1  Tue May 10 10:03:08 2022   \n2  Tue May 10 10:03:08 2022   \n\n                                             content  message_count  \\\n0  如蹄， 烏克蘭輸出軍工技術給中國，瓦良格號、氣墊登陸艇、空射巡航導彈、戰鬥機引擎等等...也...             29   \n1  如蹄， 烏克蘭輸出軍工技術給中國，瓦良格號、氣墊登陸艇、空射巡航導彈、戰鬥機引擎等等...也...             29   \n2  如蹄， 烏克蘭輸出軍工技術給中國，瓦良格號、氣墊登陸艇、空射巡航導彈、戰鬥機引擎等等...也...             29   \n\n         push_content   push_userid push_tag  \n0   現在是美軍的科技你覺得怎麼給= =  thelittleone        噓  \n1  不然烏克蘭怎麼賺錢？第一大貿易夥伴欸        zeumax        推  \n2            想當下一個伊朗唷  thelittleone        →  ",
      "text/html": "<div>\n<style scoped>\n    .dataframe tbody tr th:only-of-type {\n        vertical-align: middle;\n    }\n\n    .dataframe tbody tr th {\n        vertical-align: top;\n    }\n\n    .dataframe thead th {\n        text-align: right;\n    }\n</style>\n<table border=\"1\" class=\"dataframe\">\n  <thead>\n    <tr style=\"text-align: right;\">\n      <th></th>\n      <th>article_id</th>\n      <th>article_title</th>\n      <th>author</th>\n      <th>board</th>\n      <th>date</th>\n      <th>content</th>\n      <th>message_count</th>\n      <th>push_content</th>\n      <th>push_userid</th>\n      <th>push_tag</th>\n    </tr>\n  </thead>\n  <tbody>\n    <tr>\n      <th>0</th>\n      <td>M.1652148190.A.95B</td>\n      <td>[問卦] 烏克蘭會將這次軍事應用技術給中國嗎</td>\n      <td>kogsww (林晨黎)</td>\n      <td>Gossiping</td>\n      <td>Tue May 10 10:03:08 2022</td>\n      <td>如蹄， 烏克蘭輸出軍工技術給中國，瓦良格號、氣墊登陸艇、空射巡航導彈、戰鬥機引擎等等...也...</td>\n      <td>29</td>\n      <td>現在是美軍的科技你覺得怎麼給= =</td>\n      <td>thelittleone</td>\n      <td>噓</td>\n    </tr>\n    <tr>\n      <th>1</th>\n      <td>M.1652148190.A.95B</td>\n      <td>[問卦] 烏克蘭會將這次軍事應用技術給中國嗎</td>\n      <td>kogsww (林晨黎)</td>\n      <td>Gossiping</td>\n      <td>Tue May 10 10:03:08 2022</td>\n      <td>如蹄， 烏克蘭輸出軍工技術給中國，瓦良格號、氣墊登陸艇、空射巡航導彈、戰鬥機引擎等等...也...</td>\n      <td>29</td>\n      <td>不然烏克蘭怎麼賺錢？第一大貿易夥伴欸</td>\n      <td>zeumax</td>\n      <td>推</td>\n    </tr>\n    <tr>\n      <th>2</th>\n      <td>M.1652148190.A.95B</td>\n      <td>[問卦] 烏克蘭會將這次軍事應用技術給中國嗎</td>\n      <td>kogsww (林晨黎)</td>\n      <td>Gossiping</td>\n      <td>Tue May 10 10:03:08 2022</td>\n      <td>如蹄， 烏克蘭輸出軍工技術給中國，瓦良格號、氣墊登陸艇、空射巡航導彈、戰鬥機引擎等等...也...</td>\n      <td>29</td>\n      <td>想當下一個伊朗唷</td>\n      <td>thelittleone</td>\n      <td>→</td>\n    </tr>\n  </tbody>\n</table>\n</div>"
     },
     "execution_count": 5,
     "metadata": {},
     "output_type": "execute_result"
    }
   ],
   "source": [
    "\n",
    "df.head(3)\n"
   ],
   "metadata": {
    "collapsed": false,
    "pycharm": {
     "name": "#%%\n"
    }
   }
  },
  {
   "cell_type": "code",
   "execution_count": 6,
   "outputs": [],
   "source": [
    "with open('detail_articles.json', 'r', encoding='utf-8') as f:\n",
    "    temp = json.load(f)\n",
    "cols = ['article_id', 'article_title', 'author', 'board', 'date', 'content', 'sum', 'boo', 'count', 'neutral', 'push']\n",
    "rows = []\n"
   ],
   "metadata": {
    "collapsed": false,
    "pycharm": {
     "name": "#%%\n"
    }
   }
  },
  {
   "cell_type": "code",
   "execution_count": 7,
   "outputs": [],
   "source": [
    "for data in temp:\n",
    "    message_count = data['message_count']\n",
    "    sum = data['message_count']['all']\n",
    "    boo = data['message_count']['boo']\n",
    "    count = data['message_count']['count']\n",
    "    neutral = data['message_count']['neutral']\n",
    "    push = data['message_count']['push']\n",
    "    rows.append(\n",
    "        [data['article_id'], data['article_title'], data['author'], data['board'], data['date'], data['content'], sum,\n",
    "         boo, count, neutral, push])"
   ],
   "metadata": {
    "collapsed": false,
    "pycharm": {
     "name": "#%%\n"
    }
   }
  },
  {
   "cell_type": "code",
   "execution_count": 8,
   "outputs": [],
   "source": [
    "Meta = pd.DataFrame(rows, columns=cols)\n"
   ],
   "metadata": {
    "collapsed": false,
    "pycharm": {
     "name": "#%%\n"
    }
   }
  },
  {
   "cell_type": "code",
   "execution_count": 9,
   "outputs": [
    {
     "data": {
      "text/plain": "           article_id             article_title               author  \\\n0  M.1652148190.A.95B    [問卦] 烏克蘭會將這次軍事應用技術給中國嗎         kogsww (林晨黎)   \n1  M.1652118133.A.C65  [新聞] 普丁震怒！他忙著攻打烏克蘭　美艷情婦卻  lolahjy (我是貓,名字還沒有)   \n2  M.1652109371.A.02F  [新聞] 俄烏戰爭若繼續打下去 郭正亮：這國會非       wendsho (wind)   \n\n       board                      date  \\\n0  Gossiping  Tue May 10 10:03:08 2022   \n1  Gossiping  Tue May 10 01:42:11 2022   \n2  Gossiping  Mon May  9 23:16:08 2022   \n\n                                             content  sum  boo  count  \\\n0  如蹄， 烏克蘭輸出軍工技術給中國，瓦良格號、氣墊登陸艇、空射巡航導彈、戰鬥機引擎等等...也...   29    4      2   \n1  https://www.ettoday.net/news/20220509/2247362....   48    4     21   \n2  1.媒體來源: 中時新聞網 2.記者署名: 李俊毅 3.完整新聞標題: 俄烏戰爭若繼續打下去...    7    4     -2   \n\n   neutral  push  \n0       19     6  \n1       19    25  \n2        1     2  ",
      "text/html": "<div>\n<style scoped>\n    .dataframe tbody tr th:only-of-type {\n        vertical-align: middle;\n    }\n\n    .dataframe tbody tr th {\n        vertical-align: top;\n    }\n\n    .dataframe thead th {\n        text-align: right;\n    }\n</style>\n<table border=\"1\" class=\"dataframe\">\n  <thead>\n    <tr style=\"text-align: right;\">\n      <th></th>\n      <th>article_id</th>\n      <th>article_title</th>\n      <th>author</th>\n      <th>board</th>\n      <th>date</th>\n      <th>content</th>\n      <th>sum</th>\n      <th>boo</th>\n      <th>count</th>\n      <th>neutral</th>\n      <th>push</th>\n    </tr>\n  </thead>\n  <tbody>\n    <tr>\n      <th>0</th>\n      <td>M.1652148190.A.95B</td>\n      <td>[問卦] 烏克蘭會將這次軍事應用技術給中國嗎</td>\n      <td>kogsww (林晨黎)</td>\n      <td>Gossiping</td>\n      <td>Tue May 10 10:03:08 2022</td>\n      <td>如蹄， 烏克蘭輸出軍工技術給中國，瓦良格號、氣墊登陸艇、空射巡航導彈、戰鬥機引擎等等...也...</td>\n      <td>29</td>\n      <td>4</td>\n      <td>2</td>\n      <td>19</td>\n      <td>6</td>\n    </tr>\n    <tr>\n      <th>1</th>\n      <td>M.1652118133.A.C65</td>\n      <td>[新聞] 普丁震怒！他忙著攻打烏克蘭　美艷情婦卻</td>\n      <td>lolahjy (我是貓,名字還沒有)</td>\n      <td>Gossiping</td>\n      <td>Tue May 10 01:42:11 2022</td>\n      <td>https://www.ettoday.net/news/20220509/2247362....</td>\n      <td>48</td>\n      <td>4</td>\n      <td>21</td>\n      <td>19</td>\n      <td>25</td>\n    </tr>\n    <tr>\n      <th>2</th>\n      <td>M.1652109371.A.02F</td>\n      <td>[新聞] 俄烏戰爭若繼續打下去 郭正亮：這國會非</td>\n      <td>wendsho (wind)</td>\n      <td>Gossiping</td>\n      <td>Mon May  9 23:16:08 2022</td>\n      <td>1.媒體來源: 中時新聞網 2.記者署名: 李俊毅 3.完整新聞標題: 俄烏戰爭若繼續打下去...</td>\n      <td>7</td>\n      <td>4</td>\n      <td>-2</td>\n      <td>1</td>\n      <td>2</td>\n    </tr>\n  </tbody>\n</table>\n</div>"
     },
     "execution_count": 9,
     "metadata": {},
     "output_type": "execute_result"
    }
   ],
   "source": [
    "Meta.head(3)"
   ],
   "metadata": {
    "collapsed": false,
    "pycharm": {
     "name": "#%%\n"
    }
   }
  },
  {
   "cell_type": "markdown",
   "source": [
    "## 資覅清理"
   ],
   "metadata": {
    "collapsed": false
   }
  },
  {
   "cell_type": "code",
   "execution_count": 13,
   "outputs": [
    {
     "data": {
      "text/plain": "           article_id             article_title               author  \\\n0  M.1652148190.A.95B    [問卦] 烏克蘭會將這次軍事應用技術給中國嗎         kogsww (林晨黎)   \n1  M.1652118133.A.C65  [新聞] 普丁震怒！他忙著攻打烏克蘭　美艷情婦卻  lolahjy (我是貓,名字還沒有)   \n2  M.1652109371.A.02F  [新聞] 俄烏戰爭若繼續打下去 郭正亮：這國會非       wendsho (wind)   \n3  M.1652106647.A.242             [問卦] 5/9 俄羅斯？      waymayday (不要問)   \n4  M.1652105951.A.33C         [問卦] 為何烏克蘭不攻打俄羅斯？       dubliuers (豆漿)   \n\n       board                      date  \\\n0  Gossiping  Tue May 10 10:03:08 2022   \n1  Gossiping  Tue May 10 01:42:11 2022   \n2  Gossiping  Mon May  9 23:16:08 2022   \n3  Gossiping  Mon May  9 22:30:45 2022   \n4  Gossiping  Mon May  9 22:19:09 2022   \n\n                                             content  sum  boo  count  \\\n0  如蹄， 烏克蘭輸出軍工技術給中國，瓦良格號、氣墊登陸艇、空射巡航導彈、戰鬥機引擎等等...也...   29    4      2   \n1                                                      48    4     21   \n2  1.: 中時新聞網 2.: 李俊毅 3.: 俄烏戰爭若繼續打下去 郭正亮：這國會非常緊張 4...    7    4     -2   \n3  五月九號 最後通令 俄羅斯 布丁大帝不是說要把烏克蘭打下來 結果現在？ 各國政要跑去基輔泡茶...    8    1      2   \n4  為什麼烏克蘭只能一直防禦 不直接射一顆飛彈到克林姆林宮？ 讓普丁投降？ 一直防禦是因為怕痛嗎...   10    0      0   \n\n   neutral  push  \n0       19     6  \n1       19    25  \n2        1     2  \n3        4     3  \n4       10     0  ",
      "text/html": "<div>\n<style scoped>\n    .dataframe tbody tr th:only-of-type {\n        vertical-align: middle;\n    }\n\n    .dataframe tbody tr th {\n        vertical-align: top;\n    }\n\n    .dataframe thead th {\n        text-align: right;\n    }\n</style>\n<table border=\"1\" class=\"dataframe\">\n  <thead>\n    <tr style=\"text-align: right;\">\n      <th></th>\n      <th>article_id</th>\n      <th>article_title</th>\n      <th>author</th>\n      <th>board</th>\n      <th>date</th>\n      <th>content</th>\n      <th>sum</th>\n      <th>boo</th>\n      <th>count</th>\n      <th>neutral</th>\n      <th>push</th>\n    </tr>\n  </thead>\n  <tbody>\n    <tr>\n      <th>0</th>\n      <td>M.1652148190.A.95B</td>\n      <td>[問卦] 烏克蘭會將這次軍事應用技術給中國嗎</td>\n      <td>kogsww (林晨黎)</td>\n      <td>Gossiping</td>\n      <td>Tue May 10 10:03:08 2022</td>\n      <td>如蹄， 烏克蘭輸出軍工技術給中國，瓦良格號、氣墊登陸艇、空射巡航導彈、戰鬥機引擎等等...也...</td>\n      <td>29</td>\n      <td>4</td>\n      <td>2</td>\n      <td>19</td>\n      <td>6</td>\n    </tr>\n    <tr>\n      <th>1</th>\n      <td>M.1652118133.A.C65</td>\n      <td>[新聞] 普丁震怒！他忙著攻打烏克蘭　美艷情婦卻</td>\n      <td>lolahjy (我是貓,名字還沒有)</td>\n      <td>Gossiping</td>\n      <td>Tue May 10 01:42:11 2022</td>\n      <td></td>\n      <td>48</td>\n      <td>4</td>\n      <td>21</td>\n      <td>19</td>\n      <td>25</td>\n    </tr>\n    <tr>\n      <th>2</th>\n      <td>M.1652109371.A.02F</td>\n      <td>[新聞] 俄烏戰爭若繼續打下去 郭正亮：這國會非</td>\n      <td>wendsho (wind)</td>\n      <td>Gossiping</td>\n      <td>Mon May  9 23:16:08 2022</td>\n      <td>1.: 中時新聞網 2.: 李俊毅 3.: 俄烏戰爭若繼續打下去 郭正亮：這國會非常緊張 4...</td>\n      <td>7</td>\n      <td>4</td>\n      <td>-2</td>\n      <td>1</td>\n      <td>2</td>\n    </tr>\n    <tr>\n      <th>3</th>\n      <td>M.1652106647.A.242</td>\n      <td>[問卦] 5/9 俄羅斯？</td>\n      <td>waymayday (不要問)</td>\n      <td>Gossiping</td>\n      <td>Mon May  9 22:30:45 2022</td>\n      <td>五月九號 最後通令 俄羅斯 布丁大帝不是說要把烏克蘭打下來 結果現在？ 各國政要跑去基輔泡茶...</td>\n      <td>8</td>\n      <td>1</td>\n      <td>2</td>\n      <td>4</td>\n      <td>3</td>\n    </tr>\n    <tr>\n      <th>4</th>\n      <td>M.1652105951.A.33C</td>\n      <td>[問卦] 為何烏克蘭不攻打俄羅斯？</td>\n      <td>dubliuers (豆漿)</td>\n      <td>Gossiping</td>\n      <td>Mon May  9 22:19:09 2022</td>\n      <td>為什麼烏克蘭只能一直防禦 不直接射一顆飛彈到克林姆林宮？ 讓普丁投降？ 一直防禦是因為怕痛嗎...</td>\n      <td>10</td>\n      <td>0</td>\n      <td>0</td>\n      <td>10</td>\n      <td>0</td>\n    </tr>\n  </tbody>\n</table>\n</div>"
     },
     "execution_count": 13,
     "metadata": {},
     "output_type": "execute_result"
    }
   ],
   "source": [
    "Meta.head(5)"
   ],
   "metadata": {
    "collapsed": false,
    "pycharm": {
     "name": "#%%\n"
    }
   }
  },
  {
   "cell_type": "code",
   "execution_count": 11,
   "outputs": [],
   "source": [
    "Meta['content'] = Meta.content.apply(\n",
    "    lambda x: re.sub('(媒體來源|記者署名|完整新聞標題|完整新聞內文|完整新聞連結|(或短網址)|備註:|備註請放最後面|違者新聞文章刪除)', '', str(x)))\n",
    "Meta['content'] = Meta.content.apply(lambda x: re.sub('(http|https)://.*', '', x))\n",
    "Meta['content'] = Meta.content.apply(lambda x: re.sub('\\n', ',', x))\n",
    "Meta['content'] = Meta.content.apply(lambda x: re.sub('\\n', ',', x))"
   ],
   "metadata": {
    "collapsed": false,
    "pycharm": {
     "name": "#%%\n"
    }
   }
  },
  {
   "cell_type": "code",
   "execution_count": 14,
   "outputs": [
    {
     "data": {
      "text/plain": "           article_id             article_title               author  \\\n0  M.1652148190.A.95B    [問卦] 烏克蘭會將這次軍事應用技術給中國嗎         kogsww (林晨黎)   \n1  M.1652118133.A.C65  [新聞] 普丁震怒！他忙著攻打烏克蘭　美艷情婦卻  lolahjy (我是貓,名字還沒有)   \n2  M.1652109371.A.02F  [新聞] 俄烏戰爭若繼續打下去 郭正亮：這國會非       wendsho (wind)   \n3  M.1652106647.A.242             [問卦] 5/9 俄羅斯？      waymayday (不要問)   \n4  M.1652105951.A.33C         [問卦] 為何烏克蘭不攻打俄羅斯？       dubliuers (豆漿)   \n\n       board                      date  \\\n0  Gossiping  Tue May 10 10:03:08 2022   \n1  Gossiping  Tue May 10 01:42:11 2022   \n2  Gossiping  Mon May  9 23:16:08 2022   \n3  Gossiping  Mon May  9 22:30:45 2022   \n4  Gossiping  Mon May  9 22:19:09 2022   \n\n                                             content  sum  boo  count  \\\n0  如蹄， 烏克蘭輸出軍工技術給中國，瓦良格號、氣墊登陸艇、空射巡航導彈、戰鬥機引擎等等...也...   29    4      2   \n1                                                      48    4     21   \n2  1.: 中時新聞網 2.: 李俊毅 3.: 俄烏戰爭若繼續打下去 郭正亮：這國會非常緊張 4...    7    4     -2   \n3  五月九號 最後通令 俄羅斯 布丁大帝不是說要把烏克蘭打下來 結果現在？ 各國政要跑去基輔泡茶...    8    1      2   \n4  為什麼烏克蘭只能一直防禦 不直接射一顆飛彈到克林姆林宮？ 讓普丁投降？ 一直防禦是因為怕痛嗎...   10    0      0   \n\n   neutral  push  \n0       19     6  \n1       19    25  \n2        1     2  \n3        4     3  \n4       10     0  ",
      "text/html": "<div>\n<style scoped>\n    .dataframe tbody tr th:only-of-type {\n        vertical-align: middle;\n    }\n\n    .dataframe tbody tr th {\n        vertical-align: top;\n    }\n\n    .dataframe thead th {\n        text-align: right;\n    }\n</style>\n<table border=\"1\" class=\"dataframe\">\n  <thead>\n    <tr style=\"text-align: right;\">\n      <th></th>\n      <th>article_id</th>\n      <th>article_title</th>\n      <th>author</th>\n      <th>board</th>\n      <th>date</th>\n      <th>content</th>\n      <th>sum</th>\n      <th>boo</th>\n      <th>count</th>\n      <th>neutral</th>\n      <th>push</th>\n    </tr>\n  </thead>\n  <tbody>\n    <tr>\n      <th>0</th>\n      <td>M.1652148190.A.95B</td>\n      <td>[問卦] 烏克蘭會將這次軍事應用技術給中國嗎</td>\n      <td>kogsww (林晨黎)</td>\n      <td>Gossiping</td>\n      <td>Tue May 10 10:03:08 2022</td>\n      <td>如蹄， 烏克蘭輸出軍工技術給中國，瓦良格號、氣墊登陸艇、空射巡航導彈、戰鬥機引擎等等...也...</td>\n      <td>29</td>\n      <td>4</td>\n      <td>2</td>\n      <td>19</td>\n      <td>6</td>\n    </tr>\n    <tr>\n      <th>1</th>\n      <td>M.1652118133.A.C65</td>\n      <td>[新聞] 普丁震怒！他忙著攻打烏克蘭　美艷情婦卻</td>\n      <td>lolahjy (我是貓,名字還沒有)</td>\n      <td>Gossiping</td>\n      <td>Tue May 10 01:42:11 2022</td>\n      <td></td>\n      <td>48</td>\n      <td>4</td>\n      <td>21</td>\n      <td>19</td>\n      <td>25</td>\n    </tr>\n    <tr>\n      <th>2</th>\n      <td>M.1652109371.A.02F</td>\n      <td>[新聞] 俄烏戰爭若繼續打下去 郭正亮：這國會非</td>\n      <td>wendsho (wind)</td>\n      <td>Gossiping</td>\n      <td>Mon May  9 23:16:08 2022</td>\n      <td>1.: 中時新聞網 2.: 李俊毅 3.: 俄烏戰爭若繼續打下去 郭正亮：這國會非常緊張 4...</td>\n      <td>7</td>\n      <td>4</td>\n      <td>-2</td>\n      <td>1</td>\n      <td>2</td>\n    </tr>\n    <tr>\n      <th>3</th>\n      <td>M.1652106647.A.242</td>\n      <td>[問卦] 5/9 俄羅斯？</td>\n      <td>waymayday (不要問)</td>\n      <td>Gossiping</td>\n      <td>Mon May  9 22:30:45 2022</td>\n      <td>五月九號 最後通令 俄羅斯 布丁大帝不是說要把烏克蘭打下來 結果現在？ 各國政要跑去基輔泡茶...</td>\n      <td>8</td>\n      <td>1</td>\n      <td>2</td>\n      <td>4</td>\n      <td>3</td>\n    </tr>\n    <tr>\n      <th>4</th>\n      <td>M.1652105951.A.33C</td>\n      <td>[問卦] 為何烏克蘭不攻打俄羅斯？</td>\n      <td>dubliuers (豆漿)</td>\n      <td>Gossiping</td>\n      <td>Mon May  9 22:19:09 2022</td>\n      <td>為什麼烏克蘭只能一直防禦 不直接射一顆飛彈到克林姆林宮？ 讓普丁投降？ 一直防禦是因為怕痛嗎...</td>\n      <td>10</td>\n      <td>0</td>\n      <td>0</td>\n      <td>10</td>\n      <td>0</td>\n    </tr>\n  </tbody>\n</table>\n</div>"
     },
     "execution_count": 14,
     "metadata": {},
     "output_type": "execute_result"
    }
   ],
   "source": [
    "Meta.head(5)\n"
   ],
   "metadata": {
    "collapsed": false,
    "pycharm": {
     "name": "#%%\n"
    }
   }
  },
  {
   "cell_type": "markdown",
   "source": [],
   "metadata": {
    "collapsed": false
   }
  },
  {
   "cell_type": "code",
   "execution_count": 15,
   "outputs": [],
   "source": [
    "jieba.set_dictionary('G:\\我的雲端硬碟\\社群媒體探勘\\HW\\Project\\code\\dataset\\jieba\\dict.txt.big')\n",
    "with open('G:\\我的雲端硬碟\\社群媒體探勘\\HW\\Project\\code\\dataset\\jieba\\stop_words.txt', encoding=\"utf-8\") as f:\n",
    "    stopWords = [line.strip() for line in f.readlines()]"
   ],
   "metadata": {
    "collapsed": false,
    "pycharm": {
     "name": "#%%\n"
    }
   }
  },
  {
   "cell_type": "code",
   "execution_count": 16,
   "outputs": [],
   "source": [
    "def getToken(row):\n",
    "    seg_list = jieba.lcut(row)\n",
    "    seg_list = [w for w in seg_list if w not in stopWords and len(w) > 1]  # 篩選不在停用字的字與字元數大於1的字詞\n",
    "    return seg_list"
   ],
   "metadata": {
    "collapsed": false,
    "pycharm": {
     "name": "#%%\n"
    }
   }
  },
  {
   "cell_type": "code",
   "execution_count": 17,
   "outputs": [
    {
     "ename": "AttributeError",
     "evalue": "module 'jieba' has no attribute 'lcut'",
     "output_type": "error",
     "traceback": [
      "\u001B[1;31m---------------------------------------------------------------------------\u001B[0m",
      "\u001B[1;31mAttributeError\u001B[0m                            Traceback (most recent call last)",
      "\u001B[1;32m~\\AppData\\Local\\Temp\\ipykernel_3452\\1996017552.py\u001B[0m in \u001B[0;36m<module>\u001B[1;34m\u001B[0m\n\u001B[0;32m      1\u001B[0m \u001B[0mdata\u001B[0m \u001B[1;33m=\u001B[0m \u001B[0mMeta\u001B[0m\u001B[1;33m.\u001B[0m\u001B[0mcopy\u001B[0m\u001B[1;33m(\u001B[0m\u001B[1;33m)\u001B[0m\u001B[1;33m\u001B[0m\u001B[1;33m\u001B[0m\u001B[0m\n\u001B[1;32m----> 2\u001B[1;33m \u001B[0mdata\u001B[0m\u001B[1;33m[\u001B[0m\u001B[1;34m'word'\u001B[0m\u001B[1;33m]\u001B[0m\u001B[1;33m=\u001B[0m\u001B[0mdata\u001B[0m\u001B[1;33m.\u001B[0m\u001B[0mcontent\u001B[0m\u001B[1;33m.\u001B[0m\u001B[0mapply\u001B[0m\u001B[1;33m(\u001B[0m\u001B[0mgetToken\u001B[0m\u001B[1;33m)\u001B[0m\u001B[1;33m\u001B[0m\u001B[1;33m\u001B[0m\u001B[0m\n\u001B[0m",
      "\u001B[1;32m~\\anaconda3\\envs\\SMM\\lib\\site-packages\\pandas\\core\\series.py\u001B[0m in \u001B[0;36mapply\u001B[1;34m(self, func, convert_dtype, args, **kwargs)\u001B[0m\n\u001B[0;32m   4355\u001B[0m         \u001B[0mdtype\u001B[0m\u001B[1;33m:\u001B[0m \u001B[0mfloat64\u001B[0m\u001B[1;33m\u001B[0m\u001B[1;33m\u001B[0m\u001B[0m\n\u001B[0;32m   4356\u001B[0m         \"\"\"\n\u001B[1;32m-> 4357\u001B[1;33m         \u001B[1;32mreturn\u001B[0m \u001B[0mSeriesApply\u001B[0m\u001B[1;33m(\u001B[0m\u001B[0mself\u001B[0m\u001B[1;33m,\u001B[0m \u001B[0mfunc\u001B[0m\u001B[1;33m,\u001B[0m \u001B[0mconvert_dtype\u001B[0m\u001B[1;33m,\u001B[0m \u001B[0margs\u001B[0m\u001B[1;33m,\u001B[0m \u001B[0mkwargs\u001B[0m\u001B[1;33m)\u001B[0m\u001B[1;33m.\u001B[0m\u001B[0mapply\u001B[0m\u001B[1;33m(\u001B[0m\u001B[1;33m)\u001B[0m\u001B[1;33m\u001B[0m\u001B[1;33m\u001B[0m\u001B[0m\n\u001B[0m\u001B[0;32m   4358\u001B[0m \u001B[1;33m\u001B[0m\u001B[0m\n\u001B[0;32m   4359\u001B[0m     def _reduce(\n",
      "\u001B[1;32m~\\anaconda3\\envs\\SMM\\lib\\site-packages\\pandas\\core\\apply.py\u001B[0m in \u001B[0;36mapply\u001B[1;34m(self)\u001B[0m\n\u001B[0;32m   1041\u001B[0m             \u001B[1;32mreturn\u001B[0m \u001B[0mself\u001B[0m\u001B[1;33m.\u001B[0m\u001B[0mapply_str\u001B[0m\u001B[1;33m(\u001B[0m\u001B[1;33m)\u001B[0m\u001B[1;33m\u001B[0m\u001B[1;33m\u001B[0m\u001B[0m\n\u001B[0;32m   1042\u001B[0m \u001B[1;33m\u001B[0m\u001B[0m\n\u001B[1;32m-> 1043\u001B[1;33m         \u001B[1;32mreturn\u001B[0m \u001B[0mself\u001B[0m\u001B[1;33m.\u001B[0m\u001B[0mapply_standard\u001B[0m\u001B[1;33m(\u001B[0m\u001B[1;33m)\u001B[0m\u001B[1;33m\u001B[0m\u001B[1;33m\u001B[0m\u001B[0m\n\u001B[0m\u001B[0;32m   1044\u001B[0m \u001B[1;33m\u001B[0m\u001B[0m\n\u001B[0;32m   1045\u001B[0m     \u001B[1;32mdef\u001B[0m \u001B[0magg\u001B[0m\u001B[1;33m(\u001B[0m\u001B[0mself\u001B[0m\u001B[1;33m)\u001B[0m\u001B[1;33m:\u001B[0m\u001B[1;33m\u001B[0m\u001B[1;33m\u001B[0m\u001B[0m\n",
      "\u001B[1;32m~\\anaconda3\\envs\\SMM\\lib\\site-packages\\pandas\\core\\apply.py\u001B[0m in \u001B[0;36mapply_standard\u001B[1;34m(self)\u001B[0m\n\u001B[0;32m   1099\u001B[0m                     \u001B[0mvalues\u001B[0m\u001B[1;33m,\u001B[0m\u001B[1;33m\u001B[0m\u001B[1;33m\u001B[0m\u001B[0m\n\u001B[0;32m   1100\u001B[0m                     \u001B[0mf\u001B[0m\u001B[1;33m,\u001B[0m  \u001B[1;31m# type: ignore[arg-type]\u001B[0m\u001B[1;33m\u001B[0m\u001B[1;33m\u001B[0m\u001B[0m\n\u001B[1;32m-> 1101\u001B[1;33m                     \u001B[0mconvert\u001B[0m\u001B[1;33m=\u001B[0m\u001B[0mself\u001B[0m\u001B[1;33m.\u001B[0m\u001B[0mconvert_dtype\u001B[0m\u001B[1;33m,\u001B[0m\u001B[1;33m\u001B[0m\u001B[1;33m\u001B[0m\u001B[0m\n\u001B[0m\u001B[0;32m   1102\u001B[0m                 )\n\u001B[0;32m   1103\u001B[0m \u001B[1;33m\u001B[0m\u001B[0m\n",
      "\u001B[1;32m~\\anaconda3\\envs\\SMM\\lib\\site-packages\\pandas\\_libs\\lib.pyx\u001B[0m in \u001B[0;36mpandas._libs.lib.map_infer\u001B[1;34m()\u001B[0m\n",
      "\u001B[1;32m~\\AppData\\Local\\Temp\\ipykernel_3452\\952909722.py\u001B[0m in \u001B[0;36mgetToken\u001B[1;34m(row)\u001B[0m\n\u001B[0;32m      1\u001B[0m \u001B[1;32mdef\u001B[0m \u001B[0mgetToken\u001B[0m\u001B[1;33m(\u001B[0m\u001B[0mrow\u001B[0m\u001B[1;33m)\u001B[0m\u001B[1;33m:\u001B[0m\u001B[1;33m\u001B[0m\u001B[1;33m\u001B[0m\u001B[0m\n\u001B[1;32m----> 2\u001B[1;33m     \u001B[0mseg_list\u001B[0m \u001B[1;33m=\u001B[0m \u001B[0mjieba\u001B[0m\u001B[1;33m.\u001B[0m\u001B[0mlcut\u001B[0m\u001B[1;33m(\u001B[0m\u001B[0mrow\u001B[0m\u001B[1;33m)\u001B[0m\u001B[1;33m\u001B[0m\u001B[1;33m\u001B[0m\u001B[0m\n\u001B[0m\u001B[0;32m      3\u001B[0m     \u001B[0mseg_list\u001B[0m \u001B[1;33m=\u001B[0m \u001B[1;33m[\u001B[0m\u001B[0mw\u001B[0m \u001B[1;32mfor\u001B[0m \u001B[0mw\u001B[0m \u001B[1;32min\u001B[0m \u001B[0mseg_list\u001B[0m \u001B[1;32mif\u001B[0m \u001B[0mw\u001B[0m \u001B[1;32mnot\u001B[0m \u001B[1;32min\u001B[0m \u001B[0mstopWords\u001B[0m \u001B[1;32mand\u001B[0m \u001B[0mlen\u001B[0m\u001B[1;33m(\u001B[0m\u001B[0mw\u001B[0m\u001B[1;33m)\u001B[0m\u001B[1;33m>\u001B[0m\u001B[1;36m1\u001B[0m\u001B[1;33m]\u001B[0m \u001B[1;31m# 篩選不在停用字的字與字元數大於1的字詞\u001B[0m\u001B[1;33m\u001B[0m\u001B[1;33m\u001B[0m\u001B[0m\n\u001B[0;32m      4\u001B[0m     \u001B[1;32mreturn\u001B[0m \u001B[0mseg_list\u001B[0m\u001B[1;33m\u001B[0m\u001B[1;33m\u001B[0m\u001B[0m\n",
      "\u001B[1;31mAttributeError\u001B[0m: module 'jieba' has no attribute 'lcut'"
     ]
    }
   ],
   "source": [
    "data = Meta.copy()\n",
    "data['word']=data.content.apply(getToken)\n"
   ],
   "metadata": {
    "collapsed": false,
    "pycharm": {
     "name": "#%%\n"
    }
   }
  },
  {
   "cell_type": "code",
   "execution_count": null,
   "outputs": [],
   "source": [],
   "metadata": {
    "collapsed": false,
    "pycharm": {
     "name": "#%%\n"
    }
   }
  }
 ],
 "metadata": {
  "kernelspec": {
   "display_name": "Python 3",
   "language": "python",
   "name": "python3"
  },
  "language_info": {
   "codemirror_mode": {
    "name": "ipython",
    "version": 2
   },
   "file_extension": ".py",
   "mimetype": "text/x-python",
   "name": "python",
   "nbconvert_exporter": "python",
   "pygments_lexer": "ipython2",
   "version": "2.7.6"
  }
 },
 "nbformat": 4,
 "nbformat_minor": 0
}