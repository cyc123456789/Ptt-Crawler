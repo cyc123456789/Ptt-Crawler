{
 "cells": [
  {
   "cell_type": "code",
   "execution_count": 7,
   "outputs": [],
   "source": [
    "\n",
    "import json\n",
    "import time\n",
    "\n",
    "PTT_URL = 'https://www.ptt.cc'"
   ],
   "metadata": {
    "collapsed": false,
    "pycharm": {
     "name": "#%%\n"
    }
   }
  },
  {
   "cell_type": "code",
   "execution_count": 8,
   "metadata": {
    "collapsed": true
   },
   "outputs": [],
   "source": [
    "import requests\n",
    "from bs4 import BeautifulSoup\n",
    "\n",
    "\n",
    "def get_web_page(url):\n",
    "    resp = requests.get(url=url,\n",
    "                        cookies={'over18': '1'})\n",
    "    if resp.status_code != 200:\n",
    "        print('Invalid url:', resp.url)\n",
    "        return None\n",
    "    else:\n",
    "        return resp.text"
   ]
  },
  {
   "cell_type": "code",
   "execution_count": 9,
   "outputs": [],
   "source": [
    "def get_articles(dom, date):\n",
    "    soup = BeautifulSoup(dom, 'html.parser')\n",
    "    #print(dom)\n",
    "    # 上頁\n",
    "    paging_div = soup.find('div', 'btn-group btn-group-paging')\n",
    "    prev_url = paging_div.find_all('a')[1]['href']\n",
    "    #print('Prev url:',prev_url)\n",
    "\n",
    "    articles = []\n",
    "    divs = soup.find_all('div', 'r-ent')\n",
    "    #print([d.text for d in divs ])\n",
    "    for d in divs:\n",
    "        #title=d.find('div',class_='title').text.strip()\n",
    "        #if '[商品]' in title and d.find('div',class_='date').text.strip==date:\n",
    "        if d.find('div', class_='date').text.strip() == date:\n",
    "\n",
    "            push_count = 0\n",
    "            push_str = d.find('div', 'nrec').text\n",
    "            if push_str:\n",
    "                try:\n",
    "                    push_count = int(push_str)\n",
    "                except ValueError:\n",
    "\n",
    "                    if push_str == '爆':\n",
    "                        push_count = 99\n",
    "                    elif push_str.startswith('X'):\n",
    "                        push_count = -10\n",
    "\n",
    "            if d.find('a'):\n",
    "                href = d.find('a')['href']\n",
    "                title = d.find('a').text\n",
    "\n",
    "                author = d.find('div', 'author').text if d.find('div', 'author') else ''\n",
    "                articles.append({\n",
    "                    'title': title,\n",
    "                    'href': href,\n",
    "                    'push_count': push_count,\n",
    "                    'author': author\n",
    "                })\n",
    "    return articles, prev_url"
   ],
   "metadata": {
    "collapsed": false,
    "pycharm": {
     "name": "#%%\n"
    }
   }
  },
  {
   "cell_type": "code",
   "execution_count": 10,
   "outputs": [],
   "source": [
    "def get_author_ids(posts, pattern):\n",
    "    ids = set()\n",
    "    for post in posts:\n",
    "        if pattern in post['author']:\n",
    "            ids.add(post['author'])\n",
    "    return ids\n"
   ],
   "metadata": {
    "collapsed": false,
    "pycharm": {
     "name": "#%%\n"
    }
   }
  },
  {
   "cell_type": "code",
   "execution_count": 11,
   "outputs": [
    {
     "name": "stdout",
     "output_type": "stream",
     "text": [
      "今天有 12 篇文章\n",
      "{'title': '[食記] 彰化透明空氣-田野間的日式絕美餐廳', 'href': '/bbs/Food/M.1648427992.A.F74.html', 'push_count': 0, 'author': 'maybe1230'}\n",
      "{'title': '[食記] 台南．中西區．錫鼓(窄巷內日式咖啡館)', 'href': '/bbs/Food/M.1648428738.A.3AD.html', 'push_count': 0, 'author': 'lutherwei'}\n",
      "{'title': '[食記] 台北善導寺站【正宗台南意麵】', 'href': '/bbs/Food/M.1648429654.A.CBE.html', 'push_count': 0, 'author': 'hellolego'}\n",
      "{'title': '[食記] 台北信義x吳興商圈【一碗小羊肉】', 'href': '/bbs/Food/M.1648429837.A.AB6.html', 'push_count': 0, 'author': 'hellolego'}\n",
      "{'title': '[食記] 新北 樹林 黑肉圓', 'href': '/bbs/Food/M.1648430402.A.2B7.html', 'push_count': 0, 'author': 'smallta'}\n",
      "{'title': '[食記] 花蓮市區 平行時空·小茶室', 'href': '/bbs/Food/M.1648430925.A.D8B.html', 'push_count': 0, 'author': 'shangyikuo'}\n",
      "{'title': '[食記] 高雄三民 小吃 采儀麵館', 'href': '/bbs/Food/M.1648437827.A.DC1.html', 'push_count': 0, 'author': 'BOSOMGIRL'}\n",
      "{'title': '[食記] 台中市南屯區 廣式養生功夫雞', 'href': '/bbs/Food/M.1648438712.A.D0F.html', 'push_count': 0, 'author': 'grawd'}\n",
      "{'title': '[食記][東區] 京九食堂｜日式丼飯、海鮮、生食', 'href': '/bbs/Food/M.1648448547.A.053.html', 'push_count': 0, 'author': 'reesion'}\n",
      "{'title': '[食記] 台北內湖火鍋 龍府小鍋', 'href': '/bbs/Food/M.1648450706.A.D18.html', 'push_count': 0, 'author': 'ey60055'}\n",
      "{'title': \"[食記] 台北BUNA CAF'E 布納咖啡館內湖店 不限時\", 'href': '/bbs/Food/M.1648450872.A.181.html', 'push_count': 0, 'author': 'petitoli'}\n",
      "{'title': '[食記] 台南 上崙早餐店，老闆激推小魚乾辣椒醬', 'href': '/bbs/Food/M.1648450943.A.9CF.html', 'push_count': 0, 'author': 'hibabino'}\n"
     ]
    }
   ],
   "source": [
    "if __name__ == '__main__':\n",
    "    current_page = get_web_page(PTT_URL + '/bbs/Food/index.html')\n",
    "    if current_page:\n",
    "        articles = []\n",
    "        today = time.strftime(\"%m/%d\").lstrip('0')\n",
    "\n",
    "        current_articles, prev_url = get_articles(current_page, today)\n",
    "        while current_articles:\n",
    "            articles += current_articles\n",
    "            current_page = get_web_page(PTT_URL + prev_url)\n",
    "            current_articles, prev_url = get_articles(current_page, today)\n",
    "\n",
    "        # print(get_author_ids(articles, '5566'))\n",
    "        print('今天有', len(articles), '篇文章')\n",
    "        for a in articles:\n",
    "            #if int(a['push_count']) > threshold:\n",
    "            print(a)\n",
    "        with open('food.json', 'w', encoding='utf-8') as f:\n",
    "            json.dump(articles, f, indent=2, sort_keys=True, ensure_ascii=False)"
   ],
   "metadata": {
    "collapsed": false,
    "pycharm": {
     "name": "#%%\n"
    }
   }
  },
  {
   "cell_type": "code",
   "execution_count": 5,
   "outputs": [],
   "source": [],
   "metadata": {
    "collapsed": false,
    "pycharm": {
     "name": "#%%\n"
    }
   }
  }
 ],
 "metadata": {
  "kernelspec": {
   "display_name": "Python 3",
   "language": "python",
   "name": "python3"
  },
  "language_info": {
   "codemirror_mode": {
    "name": "ipython",
    "version": 2
   },
   "file_extension": ".py",
   "mimetype": "text/x-python",
   "name": "python",
   "nbconvert_exporter": "python",
   "pygments_lexer": "ipython2",
   "version": "2.7.6"
  }
 },
 "nbformat": 4,
 "nbformat_minor": 0
}