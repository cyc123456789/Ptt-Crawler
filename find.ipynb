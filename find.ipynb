{
 "cells": [
  {
   "cell_type": "code",
   "execution_count": 1,
   "metadata": {
    "collapsed": true
   },
   "outputs": [
    {
     "name": "stdout",
     "output_type": "stream",
     "text": [
      "<h4 class=\"card-title\">\n",
      "<a href=\"http://www.pycone.com/blogs#pablo\">Mac使用者</a>\n",
      "</h4>\n",
      "Mac使用者\n"
     ]
    }
   ],
   "source": [
    "import requests\n",
    "from bs4 import BeautifulSoup\n",
    "\n",
    "resp = requests.get('https://blog.castman.net/web-crawler-tutorial/ch2/blog/blog.html')\n",
    "soup = BeautifulSoup(resp.text,'html.parser')\n",
    "\n",
    "print(soup.find('h4'))\n",
    "print(soup.h4.a.text)\n"
   ]
  },
  {
   "cell_type": "code",
   "execution_count": 2,
   "outputs": [
    {
     "name": "stdout",
     "output_type": "stream",
     "text": [
      "Mac使用者\n",
      "給初學者的 Python 網頁爬蟲與資料分析\n",
      "給初學者的 Python 網頁爬蟲與資料分析\n",
      "給初學者的 Python 網頁爬蟲與資料分析\n",
      "給初學者的 Python 網頁爬蟲與資料分析\n",
      "給初學者的 Python 網頁爬蟲與資料分析\n"
     ]
    }
   ],
   "source": [
    "main_titles = soup.find_all('h4')\n",
    "for title in main_titles:\n",
    "    print(title.a.text)"
   ],
   "metadata": {
    "collapsed": false,
    "pycharm": {
     "name": "#%%\n"
    }
   }
  },
  {
   "cell_type": "code",
   "execution_count": 3,
   "outputs": [
    {
     "name": "stdout",
     "output_type": "stream",
     "text": [
      "Mac使用者\n",
      "給初學者的 Python 網頁爬蟲與資料分析\n",
      "給初學者的 Python 網頁爬蟲與資料分析\n",
      "給初學者的 Python 網頁爬蟲與資料分析\n",
      "給初學者的 Python 網頁爬蟲與資料分析\n",
      "給初學者的 Python 網頁爬蟲與資料分析\n"
     ]
    }
   ],
   "source": [
    "main_titles = soup.find_all('h4',class_='card-title')\n",
    "for title in main_titles:\n",
    "    print(title.a.text)"
   ],
   "metadata": {
    "collapsed": false,
    "pycharm": {
     "name": "#%%\n"
    }
   }
  },
  {
   "cell_type": "code",
   "execution_count": 4,
   "outputs": [
    {
     "name": "stdout",
     "output_type": "stream",
     "text": [
      "<p class=\"card-description\" id=\"mac-p\">\n",
      "                                    在Mac環境下安裝Python與Sublime Text3<a data-foo=\"mac-foo\" href=\"http://www.pycone.com/blogs/mac-python-environment\"> <br/>Read More </a>\n",
      "</p>\n"
     ]
    }
   ],
   "source": [
    "print(soup.find(id='mac-p'))\n"
   ],
   "metadata": {
    "collapsed": false,
    "pycharm": {
     "name": "#%%\n"
    }
   }
  },
  {
   "cell_type": "code",
   "execution_count": 5,
   "outputs": [],
   "source": [
    "divs = soup.find_all('div','content')\n"
   ],
   "metadata": {
    "collapsed": false,
    "pycharm": {
     "name": "#%%\n"
    }
   }
  },
  {
   "cell_type": "code",
   "execution_count": 6,
   "outputs": [
    {
     "name": "stdout",
     "output_type": "stream",
     "text": [
      "\n",
      "開發環境設定\n",
      "\n",
      "Mac使用者\n",
      "\n",
      "\n",
      "                                    在Mac環境下安裝Python與Sublime Text3 Read More \n",
      "\n",
      "\n",
      "\n",
      "\n",
      "                                    資料科學\n",
      "                                \n",
      "\n",
      "給初學者的 Python 網頁爬蟲與資料分析\n",
      "\n",
      "\n",
      "                                     (1) 前言 Read More \n",
      "\n",
      "\n",
      "\n",
      "\n",
      "                                    資料科學\n",
      "                                \n",
      "\n",
      "給初學者的 Python 網頁爬蟲與資料分析\n",
      "\n",
      "\n",
      "                                     (2) 套件安裝與啟動網頁爬蟲 Read More \n",
      "\n",
      "\n",
      "\n",
      "\n",
      "                                    資料科學\n",
      "                                \n",
      "\n",
      "給初學者的 Python 網頁爬蟲與資料分析\n",
      "\n",
      "\n",
      "                                     (3) 解構並擷取網頁資料 Read More \n",
      "\n",
      "\n",
      "\n",
      "\n",
      "                                    資料科學\n",
      "                                \n",
      "\n",
      "給初學者的 Python 網頁爬蟲與資料分析\n",
      "\n",
      "\n",
      "                                     (4) 擷取資料及下載圖片 Read More \n",
      "\n",
      "\n",
      "\n",
      "\n",
      "                                    資料科學\n",
      "                                \n",
      "\n",
      "給初學者的 Python 網頁爬蟲與資料分析\n",
      "\n",
      "\n",
      "                                     (5) 資料分析及展示 Read More \n",
      "\n",
      "\n"
     ]
    }
   ],
   "source": [
    "for div in divs:\n",
    "    print(div.text)\n"
   ],
   "metadata": {
    "collapsed": false,
    "pycharm": {
     "name": "#%%\n"
    }
   }
  },
  {
   "cell_type": "code",
   "execution_count": 7,
   "outputs": [
    {
     "name": "stdout",
     "output_type": "stream",
     "text": [
      "開發環境設定 Mac使用者 在Mac環境下安裝Python與Sublime Text3 Read More\n",
      "資料科學 給初學者的 Python 網頁爬蟲與資料分析 (1) 前言 Read More\n",
      "資料科學 給初學者的 Python 網頁爬蟲與資料分析 (2) 套件安裝與啟動網頁爬蟲 Read More\n",
      "資料科學 給初學者的 Python 網頁爬蟲與資料分析 (3) 解構並擷取網頁資料 Read More\n",
      "資料科學 給初學者的 Python 網頁爬蟲與資料分析 (4) 擷取資料及下載圖片 Read More\n",
      "資料科學 給初學者的 Python 網頁爬蟲與資料分析 (5) 資料分析及展示 Read More\n"
     ]
    }
   ],
   "source": [
    "for div in divs:\n",
    "    print(div.h6.text.strip(),div.h4.a.text,div.p.text.strip())"
   ],
   "metadata": {
    "collapsed": false,
    "pycharm": {
     "name": "#%%\n"
    }
   }
  },
  {
   "cell_type": "code",
   "execution_count": 8,
   "outputs": [
    {
     "name": "stdout",
     "output_type": "stream",
     "text": [
      "['開發環境設定', 'Mac使用者', '在Mac環境下安裝Python與Sublime Text3', 'Read More']\n",
      "['資料科學', '給初學者的 Python 網頁爬蟲與資料分析', '(1) 前言', 'Read More']\n",
      "['資料科學', '給初學者的 Python 網頁爬蟲與資料分析', '(2) 套件安裝與啟動網頁爬蟲', 'Read More']\n",
      "['資料科學', '給初學者的 Python 網頁爬蟲與資料分析', '(3) 解構並擷取網頁資料', 'Read More']\n",
      "['資料科學', '給初學者的 Python 網頁爬蟲與資料分析', '(4) 擷取資料及下載圖片', 'Read More']\n",
      "['資料科學', '給初學者的 Python 網頁爬蟲與資料分析', '(5) 資料分析及展示', 'Read More']\n"
     ]
    }
   ],
   "source": [
    "for div in divs:\n",
    "    print([s for s in div.stripped_strings])\n"
   ],
   "metadata": {
    "collapsed": false,
    "pycharm": {
     "name": "#%%\n"
    }
   }
  },
  {
   "cell_type": "code",
   "execution_count": 10,
   "outputs": [],
   "source": [
    "def get_web_page(url):\n",
    "    resp = requests.get(url=url,\n",
    "                        cookies={'over18':'1'})\n",
    "    if resp.status_code!=200:\n",
    "        print('Invalid url:',resp.url)\n",
    "        return None\n",
    "    else:\n",
    "        return resp.text\n",
    "\n"
   ],
   "metadata": {
    "collapsed": false,
    "pycharm": {
     "name": "#%%\n"
    }
   }
  },
  {
   "cell_type": "code",
   "execution_count": 11,
   "outputs": [],
   "source": [
    "FOOOD_URL = 'https://www.ptt.cc/bbs/Food/index.html'\n",
    "current_page = get_web_page(FOOOD_URL)\n"
   ],
   "metadata": {
    "collapsed": false,
    "pycharm": {
     "name": "#%%\n"
    }
   }
  },
  {
   "cell_type": "code",
   "execution_count": 12,
   "outputs": [
    {
     "name": "stdout",
     "output_type": "stream",
     "text": [
      "/bbs/Food/index7001.html\n"
     ]
    }
   ],
   "source": [
    "soup = BeautifulSoup(current_page,'html.parser')\n",
    "paging_div = soup.find('div', 'btn-group btn-group-paging')\n",
    "prev_url = paging_div.find_all('a')[1]['href']\n",
    "print(prev_url)"
   ],
   "metadata": {
    "collapsed": false,
    "pycharm": {
     "name": "#%%\n"
    }
   }
  },
  {
   "cell_type": "code",
   "execution_count": 13,
   "outputs": [],
   "source": [
    "divs = soup.find_all('div','r-ent')\n",
    "articles = []"
   ],
   "metadata": {
    "collapsed": false,
    "pycharm": {
     "name": "#%%\n"
    }
   }
  },
  {
   "cell_type": "code",
   "execution_count": 14,
   "outputs": [
    {
     "name": "stdout",
     "output_type": "stream",
     "text": [
      "[食記] 台中南區大慶 品克燒烤肉(外帶平價串燒烤\n",
      "[食記] 台北車站 泰獅 泰式料理\n",
      "[食記] 高雄 左營-麵屋武藏武骨 豚骨蛤蠣拉麵\n",
      "[食記] 台北士林，隱家拉麵士林店\n",
      "[食記] 新北淡水 天町燒肉屋\n",
      "[食記] 台南 仟億鍋台南安平店\n",
      "[食記] 桃園楊梅區。辣嘛川湘館\n",
      "[食記] 台北松山 吳留手串燒居酒屋-本店 水準之上\n",
      "[食記] 彰化透明空氣-田野間的日式絕美餐廳\n",
      "[食記] 台南．中西區．錫鼓(窄巷內日式咖啡館)\n",
      "[食記] 台北善導寺站【正宗台南意麵】\n",
      "[食記] 台北信義x吳興商圈【一碗小羊肉】\n",
      "[食記] 新北 樹林 黑肉圓\n",
      "[食記] 花蓮市區 平行時空·小茶室\n",
      "[食記] 高雄三民 小吃 采儀麵館\n",
      "[食記] 台中市南屯區 廣式養生功夫雞\n",
      "[食記][東區] 京九食堂｜日式丼飯、海鮮、生食\n"
     ]
    }
   ],
   "source": [
    "for d in divs:\n",
    "    title=d.find('div',class_='title').text.strip()\n",
    "    if '[食記]' in title:\n",
    "        print(title)"
   ],
   "metadata": {
    "collapsed": false,
    "pycharm": {
     "name": "#%%\n"
    }
   }
  },
  {
   "cell_type": "code",
   "execution_count": 21,
   "outputs": [],
   "source": [
    "date = '3/28'\n",
    "for d in divs:\n",
    "    #title=d.find('div',class_='title').text.strip()\n",
    "    #if '[商品]' in title and d.find('div',class_='date').text.strip==date:\n",
    "    if d.find('div', class_='date').text.strip() == date:\n",
    "        # 取得推文數\n",
    "        push_count = 0\n",
    "        push_str = d.find('div', 'nrec').text\n",
    "        if push_str:\n",
    "            try:\n",
    "                push_count = int(push_str)  # 轉換字串為數字\n",
    "            except ValueError:\n",
    "                # 若轉換失敗，可能是'爆'或 'X1', 'X2', ...\n",
    "                # 若不是, 不做任何事，push_count 保持為 0\n",
    "                if push_str == '爆':\n",
    "                    push_count = 99\n",
    "                elif push_str.startswith('X'):\n",
    "                    push_count = -10\n",
    "\n",
    "        if d.find('a'):  # 有超連結，表示文章存在，未被刪除\n",
    "                href = d.find('a')['href']\n",
    "                title = d.find('a').text\n",
    "                author = ''  # author = d.find('div', 'author').text if d.find('div', 'author') else ''\n",
    "                articles.append({\n",
    "                    'title': title,\n",
    "                    'href': href,\n",
    "                    'push_count': push_count,\n",
    "                    'author': author\n",
    "                })\n"
   ],
   "metadata": {
    "collapsed": false,
    "pycharm": {
     "name": "#%%\n"
    }
   }
  },
  {
   "cell_type": "code",
   "execution_count": null,
   "outputs": [],
   "source": [],
   "metadata": {
    "collapsed": false,
    "pycharm": {
     "name": "#%%\n"
    }
   }
  }
 ],
 "metadata": {
  "kernelspec": {
   "display_name": "Python 3",
   "language": "python",
   "name": "python3"
  },
  "language_info": {
   "codemirror_mode": {
    "name": "ipython",
    "version": 2
   },
   "file_extension": ".py",
   "mimetype": "text/x-python",
   "name": "python",
   "nbconvert_exporter": "python",
   "pygments_lexer": "ipython2",
   "version": "2.7.6"
  }
 },
 "nbformat": 4,
 "nbformat_minor": 0
}